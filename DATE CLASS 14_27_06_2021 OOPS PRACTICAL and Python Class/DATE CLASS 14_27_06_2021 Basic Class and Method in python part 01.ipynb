{
 "cells": [
  {
   "cell_type": "markdown",
   "id": "ad9a597d",
   "metadata": {},
   "source": [
    "## OOPS practical"
   ]
  },
  {
   "cell_type": "code",
   "execution_count": 2,
   "id": "4b8e49ec",
   "metadata": {},
   "outputs": [],
   "source": [
    "#Here Classname is written and object represent inheritence which can be studied further\n",
    "#pass is required to not provide any method inside that class\n",
    "class ClassName(object):\n",
    "    pass"
   ]
  },
  {
   "cell_type": "code",
   "execution_count": 3,
   "id": "af793c6c",
   "metadata": {},
   "outputs": [
    {
     "data": {
      "text/plain": [
       "<__main__.ClassName at 0x12eb81111f0>"
      ]
     },
     "execution_count": 3,
     "metadata": {},
     "output_type": "execute_result"
    }
   ],
   "source": [
    "#calling class \n",
    "ClassName()"
   ]
  },
  {
   "cell_type": "code",
   "execution_count": 4,
   "id": "527f0107",
   "metadata": {},
   "outputs": [
    {
     "ename": "NameError",
     "evalue": "name '__new__' is not defined",
     "output_type": "error",
     "traceback": [
      "\u001b[1;31m---------------------------------------------------------------------------\u001b[0m",
      "\u001b[1;31mNameError\u001b[0m                                 Traceback (most recent call last)",
      "\u001b[1;32m<ipython-input-4-9f6f09663aec>\u001b[0m in \u001b[0;36m<module>\u001b[1;34m\u001b[0m\n\u001b[1;32m----> 1\u001b[1;33m \u001b[0m__new__\u001b[0m\u001b[1;33m\u001b[0m\u001b[1;33m\u001b[0m\u001b[0m\n\u001b[0m",
      "\u001b[1;31mNameError\u001b[0m: name '__new__' is not defined"
     ]
    }
   ],
   "source": [
    "__new__"
   ]
  },
  {
   "cell_type": "code",
   "execution_count": null,
   "id": "1688648d",
   "metadata": {},
   "outputs": [],
   "source": [
    "__init__"
   ]
  },
  {
   "cell_type": "code",
   "execution_count": 5,
   "id": "fffeddb3",
   "metadata": {},
   "outputs": [],
   "source": [
    "#ObjectCreationDemo is name of the class and message is object of that class which can be written as function\n",
    "#self is first argument which can be written as any name x,y,z which is assential while declaring varibale inside that object\n",
    "class ObjectCreationDemo():\n",
    "    def message(self):\n",
    "        print(\"Message is called\")\n",
    "        "
   ]
  },
  {
   "cell_type": "code",
   "execution_count": 7,
   "id": "034b042e",
   "metadata": {},
   "outputs": [
    {
     "name": "stdout",
     "output_type": "stream",
     "text": [
      "Message is called\n"
     ]
    }
   ],
   "source": [
    "#Following is methode call where first is class name and second is function name or objrct to call\n",
    "ObjectCreationDemo().message()"
   ]
  },
  {
   "cell_type": "code",
   "execution_count": 15,
   "id": "4de40a33",
   "metadata": {},
   "outputs": [],
   "source": [
    "x=3"
   ]
  },
  {
   "cell_type": "code",
   "execution_count": 13,
   "id": "7d09d90d",
   "metadata": {},
   "outputs": [],
   "source": [
    "#__name__ and __init__ are methode used to call class with argument gievn inside that as follow\n",
    "class Demo:\n",
    "    def __name__(self):\n",
    "        print(\"This will not excecute\")"
   ]
  },
  {
   "cell_type": "code",
   "execution_count": 15,
   "id": "03965d4d",
   "metadata": {},
   "outputs": [
    {
     "data": {
      "text/plain": [
       "<__main__.Demo at 0x12eb90b50a0>"
      ]
     },
     "execution_count": 15,
     "metadata": {},
     "output_type": "execute_result"
    }
   ],
   "source": [
    "Demo()"
   ]
  },
  {
   "cell_type": "code",
   "execution_count": 17,
   "id": "36aa55b6",
   "metadata": {},
   "outputs": [],
   "source": [
    "#few important notes\n",
    "#__name__ doesnt required mpost of time\n",
    "#__self is essential argument to use...any keyword can be used in place of the self ....but possition is fixed\n",
    "class Demo01:\n",
    "    def __name__(self):\n",
    "        print(\"This will not excecute\")\n",
    "    def __init__(self):\n",
    "        print(\"It  execute print\")\n",
    "    "
   ]
  },
  {
   "cell_type": "code",
   "execution_count": 18,
   "id": "56b4a04b",
   "metadata": {},
   "outputs": [
    {
     "name": "stdout",
     "output_type": "stream",
     "text": [
      "It also execute above field\n"
     ]
    },
    {
     "data": {
      "text/plain": [
       "<__main__.Demo01 at 0x12eb90b52e0>"
      ]
     },
     "execution_count": 18,
     "metadata": {},
     "output_type": "execute_result"
    }
   ],
   "source": [
    "Demo01()"
   ]
  },
  {
   "cell_type": "markdown",
   "id": "3a22d85b",
   "metadata": {},
   "source": [
    "#__repr__ is used to print object as input required in the init\n"
   ]
  },
  {
   "cell_type": "markdown",
   "id": "6343e61c",
   "metadata": {},
   "source": [
    "#__str__ is used to print message written inside the print statment of the __str__ "
   ]
  },
  {
   "cell_type": "code",
   "execution_count": 19,
   "id": "fe3ad7a2",
   "metadata": {},
   "outputs": [],
   "source": [
    "#This is complete example of class which clear all the concept of the class\n",
    "#here first three object __init__ , __repr__, __str__ are inbuilt method\n",
    "#Rest are defined\n",
    "# self.name here self is essential keyword for declare variable name\n",
    "#Product(name = \"chintan\".....) ...what ever argument insite if init is directly given with class name\n",
    "#Rest of the method can be called with classname().methodname()......\n",
    "class Product:\n",
    "    def __init__(self,name,price,size,qty,description,brand,color ):\n",
    "        self.name=name\n",
    "        self.price=price\n",
    "        self.size=size\n",
    "        self.qty=qty\n",
    "        self.description=description\n",
    "        self.brand=brand\n",
    "        self.color=color\n",
    "    def __repr__(self):\n",
    "        return f\"Product(name={self.name},price={self.price},size={self.size},qty={self.qty},description={self.description},brand={self.brand},color={self.color})\"\n",
    "    \n",
    "    def __str__(self):\n",
    "        return f\"This product name is {self.name}\"\n",
    "    \n",
    "    def productDetail():\n",
    "        print(\"\")\n",
    "    def addProduct(self):\n",
    "        pass\n",
    "    \n",
    "    def removeProduct(self):\n",
    "        pass\n",
    "    def getProductByName(self):\n",
    "        pass\n",
    "    def updateProduct(self,name,price,size,qty,description,brand,color):\n",
    "        if self.name!=name:\n",
    "            self.name=name\n",
    "        self.name=name\n",
    "        self.price=price\n",
    "        self.size=size\n",
    "        self.qty=qty\n",
    "        self.description=description\n",
    "        if self.brand!=brand:\n",
    "            self.brand=brand\n",
    "        self.color=color\n",
    "    \n",
    "\n",
    "        \n",
    "        \n",
    "        \n",
    "    \n",
    "        \n",
    "\n",
    "\n",
    "        "
   ]
  },
  {
   "cell_type": "code",
   "execution_count": 20,
   "id": "88cfee62",
   "metadata": {},
   "outputs": [
    {
     "ename": "TypeError",
     "evalue": "__init__() missing 7 required positional arguments: 'name', 'price', 'size', 'qty', 'description', 'brand', and 'color'",
     "output_type": "error",
     "traceback": [
      "\u001b[1;31m---------------------------------------------------------------------------\u001b[0m",
      "\u001b[1;31mTypeError\u001b[0m                                 Traceback (most recent call last)",
      "\u001b[1;32m<ipython-input-20-672aba7e6823>\u001b[0m in \u001b[0;36m<module>\u001b[1;34m\u001b[0m\n\u001b[1;32m----> 1\u001b[1;33m \u001b[0mProduct\u001b[0m\u001b[1;33m(\u001b[0m\u001b[1;33m)\u001b[0m\u001b[1;33m\u001b[0m\u001b[1;33m\u001b[0m\u001b[0m\n\u001b[0m",
      "\u001b[1;31mTypeError\u001b[0m: __init__() missing 7 required positional arguments: 'name', 'price', 'size', 'qty', 'description', 'brand', and 'color'"
     ]
    }
   ],
   "source": [
    "Product()  #This is error because argument are not given which are given into __init__"
   ]
  },
  {
   "cell_type": "code",
   "execution_count": 22,
   "id": "11e2a4b9",
   "metadata": {},
   "outputs": [],
   "source": [
    "#This is Correct way to call class with arguments\n",
    "#here called classed inbuilt stored into variable p1\n",
    "p1=Product(name='Mobile',price=890,size='Large',qty=890,description=\"This is a product\",brand='XYZ',color='yellow')"
   ]
  },
  {
   "cell_type": "code",
   "execution_count": 24,
   "id": "d67792c2",
   "metadata": {},
   "outputs": [
    {
     "data": {
      "text/plain": [
       "Product(name=Mobile,price=890,size=Large,qty=890,description=This is a product,brand=XYZ,color=yellow)"
      ]
     },
     "execution_count": 24,
     "metadata": {},
     "output_type": "execute_result"
    }
   ],
   "source": [
    "#This will give output as input of previous one because of __repr__ method\n",
    "p1"
   ]
  },
  {
   "cell_type": "code",
   "execution_count": 26,
   "id": "01121efc",
   "metadata": {},
   "outputs": [],
   "source": [
    "p2=Product(name='Mobile2',price=891,size='small',qty=890,description=\"This is a product\",brand='XYZ',color='balck')"
   ]
  },
  {
   "cell_type": "code",
   "execution_count": 27,
   "id": "0ad84c27",
   "metadata": {},
   "outputs": [
    {
     "data": {
      "text/plain": [
       "Product(name=Mobile2,price=891,size=small,qty=890,description=This is a product,brand=XYZ,color=balck)"
      ]
     },
     "execution_count": 27,
     "metadata": {},
     "output_type": "execute_result"
    }
   ],
   "source": [
    "p2"
   ]
  },
  {
   "cell_type": "code",
   "execution_count": 28,
   "id": "8f059529",
   "metadata": {},
   "outputs": [],
   "source": [
    "#Product class redefined for better understanding\n",
    "#here f\"<string> is same as .formate(<variable name>), seen in basic section\n",
    "\n",
    "class Product:\n",
    "    def __init__(self,name=None,price=None,size=None,qty=None,description=None,brand=None,color=None):\n",
    "        self.name=name\n",
    "        self.price=price\n",
    "        self.size=size\n",
    "        self.qty=qty\n",
    "        self.description=description\n",
    "        self.brand=brand\n",
    "        self.color=color\n",
    "    def __repr__(self):\n",
    "        return f\"Product(name={self.name},price={self.price},size={self.size},qty={self.qty},description={self.description},brand={self.brand},color={self.color})\"\n",
    "   \n",
    "    def __str__(self):\n",
    "        return f\"This product name is {self.name}\"\n",
    "    \n",
    "    def getProductDetail(self):\n",
    "        return {'name':self.name,\n",
    "               'price':self.price\n",
    "               }\n",
    "        \n",
    "    def addProduct(self,name,price,size,qty,description,brand,color):\n",
    "        self.name=name\n",
    "        self.price=price\n",
    "        self.size=size\n",
    "        self.qty=qty\n",
    "        self.description=description\n",
    "        self.brand=brand\n",
    "        self.color=color\n",
    "    \n",
    "    def removeProduct(self):\n",
    "        pass\n",
    "    def getProductByName(self):\n",
    "        pass\n",
    "    \n",
    "    def updateProductQty(self,qty):\n",
    "        print(f\"Existing quantity{self.qty}\")\n",
    "        if self.qty!=qty:\n",
    "            self.qty=qty\n",
    "        print(f\"New quantity{self.qty}\")\n",
    "            \n",
    "        \n",
    "        \n",
    "        \n",
    "    \n",
    "        \n",
    "\n",
    "\n",
    "        "
   ]
  },
  {
   "cell_type": "code",
   "execution_count": 36,
   "id": "cedfc19b",
   "metadata": {},
   "outputs": [
    {
     "data": {
      "text/plain": [
       "Product(name=None,price=None,size=None,qty=None,description=None,brand=None,color=None)"
      ]
     },
     "execution_count": 36,
     "metadata": {},
     "output_type": "execute_result"
    }
   ],
   "source": [
    "#This is accaptable because of default argument given with __init__\n",
    "product01 = Product()\n",
    "product01"
   ]
  },
  {
   "cell_type": "code",
   "execution_count": 37,
   "id": "f4f60b61",
   "metadata": {},
   "outputs": [],
   "source": [
    "#This is calling of method addProduct which add product\n",
    "\n",
    "product01.addProduct(name='Mobile',price=890,size='Large',qty=890,description=\"This is a product\",brand='XYZ',color='yellow')"
   ]
  },
  {
   "cell_type": "code",
   "execution_count": 38,
   "id": "ce23024f",
   "metadata": {},
   "outputs": [
    {
     "data": {
      "text/plain": [
       "{'name': 'Mobile', 'price': 890}"
      ]
     },
     "execution_count": 38,
     "metadata": {},
     "output_type": "execute_result"
    }
   ],
   "source": [
    "#gettiing detailes of product is written inside class which indicate \n",
    "product01.getProductDetail()"
   ]
  },
  {
   "cell_type": "code",
   "execution_count": 39,
   "id": "259b06d4",
   "metadata": {},
   "outputs": [
    {
     "name": "stdout",
     "output_type": "stream",
     "text": [
      "Existing quantity890\n",
      "New quantity100\n",
      "None\n"
     ]
    }
   ],
   "source": [
    "print(product01.updateProductQty(100))"
   ]
  },
  {
   "cell_type": "markdown",
   "id": "dc930e40",
   "metadata": {},
   "source": [
    "#Now let move towards inheritence of class where one class is related to other"
   ]
  },
  {
   "cell_type": "code",
   "execution_count": 40,
   "id": "95135b3f",
   "metadata": {},
   "outputs": [],
   "source": [
    "#Employee is parent class which has detailes of all employees\n",
    "class Employee:\n",
    "    def __init__(self,emp_name,age):\n",
    "        self.emp_name=emp_name\n",
    "        self.age=age\n",
    "        \n",
    "    def getEmployeeDetail(self):\n",
    "        print(\"EmpName:\",self.emp_name)\n",
    "        print(\"Age:\",self.age)\n",
    "    def addAttendance(self):\n",
    "        print(\"Attendance added\")"
   ]
  },
  {
   "cell_type": "code",
   "execution_count": 41,
   "id": "8c7486b9",
   "metadata": {},
   "outputs": [],
   "source": [
    "#Manager is child class of Employee class\n",
    "#while calling Manager class argument such as emp_name and age which already present into parent Employee call can be called form that\n",
    "#For that super().__init__(argument which can be taken from parent class)\n",
    "#remember for this argument must defined into the parent class\n",
    "class Manager(Employee):\n",
    "    def __init__(self,emp_name,age,no_of_employee):\n",
    "        super().__init__(emp_name,age)\n",
    "        self.no_of_employee=no_of_employee\n",
    "        \n",
    "#simillar way for following method first 2 imformation directly collected from parent class and for that super() is used    \n",
    "    def getEmployeeDetail(self):\n",
    "        super().getEmployeeDetail()\n",
    "        print(\"No of employee\",self.no_of_employee)\n",
    "    \n",
    "    def approveAttendance():\n",
    "        print(\"Attendance approved\")\n",
    "        \n",
    "    def assignTaskToEmployee():\n",
    "        print(\"Assign Task\")\n",
    "    \n",
    " \n",
    "        "
   ]
  },
  {
   "cell_type": "code",
   "execution_count": 42,
   "id": "00dd7f13",
   "metadata": {},
   "outputs": [],
   "source": [
    "m1=Manager('Avnish',23,78)"
   ]
  },
  {
   "cell_type": "code",
   "execution_count": 43,
   "id": "5b429a3d",
   "metadata": {},
   "outputs": [
    {
     "name": "stdout",
     "output_type": "stream",
     "text": [
      "EmpName: Avnish\n",
      "Age: 23\n",
      "No of employee 78\n"
     ]
    }
   ],
   "source": [
    "m1.getEmployeeDetail()"
   ]
  },
  {
   "cell_type": "code",
   "execution_count": 44,
   "id": "011891a1",
   "metadata": {},
   "outputs": [
    {
     "name": "stdout",
     "output_type": "stream",
     "text": [
      "Attendance added\n"
     ]
    }
   ],
   "source": [
    "m1.addAttendance()"
   ]
  },
  {
   "cell_type": "code",
   "execution_count": 48,
   "id": "2c1eb9a9",
   "metadata": {},
   "outputs": [
    {
     "data": {
      "text/plain": [
       "'Avnish'"
      ]
     },
     "execution_count": 48,
     "metadata": {},
     "output_type": "execute_result"
    }
   ],
   "source": [
    "#this shows variable name\n",
    "m1.emp_name"
   ]
  },
  {
   "cell_type": "markdown",
   "id": "146dd406",
   "metadata": {},
   "source": [
    "##Following is explained into next class files "
   ]
  },
  {
   "cell_type": "code",
   "execution_count": 49,
   "id": "b1ec1d7c",
   "metadata": {},
   "outputs": [],
   "source": [
    "class RightClass:\n",
    "    \n",
    "    def __init__(self):\n",
    "        print(\"Right class called\")\n",
    "    \n",
    "    def call_me(self):\n",
    "        print(\"Right class call me called\")\n",
    "    \n",
    "    "
   ]
  },
  {
   "cell_type": "code",
   "execution_count": 50,
   "id": "5bdf5649",
   "metadata": {},
   "outputs": [],
   "source": [
    "class LeftClass:\n",
    "    \n",
    "    def __init__(self):\n",
    "        print(\"LeftClass class called\")\n",
    "    \n",
    "    def call_me(self):\n",
    "        print(\"LeftClass class call me called\")\n",
    "    \n",
    "    "
   ]
  },
  {
   "cell_type": "code",
   "execution_count": 51,
   "id": "c0c71ccc",
   "metadata": {},
   "outputs": [],
   "source": [
    "class ChildClass(RightClass,LeftClass):\n",
    "    def __init__(self):\n",
    "        print(\"ChildClass class called\")\n",
    "#here , parent class is called using its names with callable method ...\n",
    "#it always execute __init__ and method given with class name......\n",
    "    def call_me(self):\n",
    "        LeftClass().call_me()\n",
    "        print(\"ChildClass class call me called\")\n",
    "    \n",
    "    "
   ]
  },
  {
   "cell_type": "code",
   "execution_count": 52,
   "id": "ef75102b",
   "metadata": {},
   "outputs": [
    {
     "name": "stdout",
     "output_type": "stream",
     "text": [
      "ChildClass class called\n"
     ]
    }
   ],
   "source": [
    "#obviously this execute whatever written inside __init__ of childclass not more than that\n",
    "c1=ChildClass()"
   ]
  },
  {
   "cell_type": "code",
   "execution_count": 53,
   "id": "1a3e5608",
   "metadata": {},
   "outputs": [
    {
     "name": "stdout",
     "output_type": "stream",
     "text": [
      "LeftClass class called\n",
      "LeftClass class call me called\n",
      "ChildClass class call me called\n"
     ]
    }
   ],
   "source": [
    "#while calling with class name .......whatever written inside parent class __init__ always callable\n",
    "#moreover whichever method is joind with class name is also callable\n",
    "c1.call_me()"
   ]
  },
  {
   "cell_type": "code",
   "execution_count": null,
   "id": "660b9253",
   "metadata": {},
   "outputs": [],
   "source": []
  }
 ],
 "metadata": {
  "kernelspec": {
   "display_name": "Python 3",
   "language": "python",
   "name": "python3"
  },
  "language_info": {
   "codemirror_mode": {
    "name": "ipython",
    "version": 3
   },
   "file_extension": ".py",
   "mimetype": "text/x-python",
   "name": "python",
   "nbconvert_exporter": "python",
   "pygments_lexer": "ipython3",
   "version": "3.8.8"
  }
 },
 "nbformat": 4,
 "nbformat_minor": 5
}
