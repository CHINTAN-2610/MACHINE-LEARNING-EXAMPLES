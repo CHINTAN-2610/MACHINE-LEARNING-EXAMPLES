{
 "cells": [
  {
   "cell_type": "code",
   "execution_count": 1,
   "id": "da280496",
   "metadata": {},
   "outputs": [],
   "source": [
    "## model can predict whcih dumed in file linearregression\n",
    "import pickle"
   ]
  },
  {
   "cell_type": "code",
   "execution_count": 2,
   "id": "d723bf15",
   "metadata": {},
   "outputs": [],
   "source": [
    "reg = pickle.load(open(\"lr.sav\" , \"rb\"))"
   ]
  },
  {
   "cell_type": "code",
   "execution_count": 4,
   "id": "67c21dfc",
   "metadata": {},
   "outputs": [
    {
     "data": {
      "text/plain": [
       "array([[11.78625759]])"
      ]
     },
     "execution_count": 4,
     "metadata": {},
     "output_type": "execute_result"
    }
   ],
   "source": [
    "reg.predict([[100]])  #same model can be used to make prediction for given data"
   ]
  },
  {
   "cell_type": "code",
   "execution_count": null,
   "id": "ccb063cb",
   "metadata": {},
   "outputs": [],
   "source": []
  }
 ],
 "metadata": {
  "kernelspec": {
   "display_name": "Python 3",
   "language": "python",
   "name": "python3"
  },
  "language_info": {
   "codemirror_mode": {
    "name": "ipython",
    "version": 3
   },
   "file_extension": ".py",
   "mimetype": "text/x-python",
   "name": "python",
   "nbconvert_exporter": "python",
   "pygments_lexer": "ipython3",
   "version": "3.8.8"
  }
 },
 "nbformat": 4,
 "nbformat_minor": 5
}
