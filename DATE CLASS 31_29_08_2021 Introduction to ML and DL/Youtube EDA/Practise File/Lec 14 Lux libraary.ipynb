{
 "cells": [
  {
   "cell_type": "code",
   "execution_count": 1,
   "id": "e087acbf",
   "metadata": {},
   "outputs": [],
   "source": [
    "#just go to webpage of lux library and use online jupyter notebook provide"
   ]
  },
  {
   "cell_type": "markdown",
   "id": "228a9520",
   "metadata": {},
   "source": [
    "https://github.com/lux-org/lux"
   ]
  },
  {
   "cell_type": "code",
   "execution_count": null,
   "id": "3198b6a8",
   "metadata": {},
   "outputs": [],
   "source": []
  }
 ],
 "metadata": {
  "kernelspec": {
   "display_name": "Python 3",
   "language": "python",
   "name": "python3"
  },
  "language_info": {
   "codemirror_mode": {
    "name": "ipython",
    "version": 3
   },
   "file_extension": ".py",
   "mimetype": "text/x-python",
   "name": "python",
   "nbconvert_exporter": "python",
   "pygments_lexer": "ipython3",
   "version": "3.8.8"
  }
 },
 "nbformat": 4,
 "nbformat_minor": 5
}
