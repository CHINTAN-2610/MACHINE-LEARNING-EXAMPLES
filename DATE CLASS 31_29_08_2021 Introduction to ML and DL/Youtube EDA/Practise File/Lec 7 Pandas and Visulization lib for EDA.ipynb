{
 "cells": [
  {
   "cell_type": "markdown",
   "id": "89892b9a",
   "metadata": {},
   "source": [
    "# Dtale"
   ]
  },
  {
   "cell_type": "code",
   "execution_count": 1,
   "id": "e89b92e0",
   "metadata": {},
   "outputs": [
    {
     "name": "stdout",
     "output_type": "stream",
     "text": [
      "Collecting Dtale\n",
      "  Downloading dtale-1.56.0-py2.py3-none-any.whl (10.9 MB)\n",
      "Requirement already satisfied: scikit-learn in c:\\users\\chintan patel\\anaconda3\\lib\\site-packages (from Dtale) (0.24.1)\n",
      "Collecting dash-daq\n",
      "  Downloading dash_daq-0.5.0.tar.gz (642 kB)\n",
      "Requirement already satisfied: numpy in c:\\users\\chintan patel\\anaconda3\\lib\\site-packages (from Dtale) (1.20.1)\n",
      "Requirement already satisfied: seaborn in c:\\users\\chintan patel\\anaconda3\\lib\\site-packages (from Dtale) (0.11.1)\n",
      "Collecting lz4\n",
      "  Downloading lz4-3.1.3-cp38-cp38-win_amd64.whl (192 kB)\n",
      "Requirement already satisfied: matplotlib in c:\\users\\chintan patel\\anaconda3\\lib\\site-packages (from Dtale) (3.3.4)\n",
      "Collecting Flask-Compress\n",
      "  Downloading Flask_Compress-1.10.1-py3-none-any.whl (7.9 kB)\n",
      "Collecting dash>=1.5.0\n",
      "  Downloading dash-2.0.0-py3-none-any.whl (7.3 MB)\n",
      "Collecting flask-ngrok\n",
      "  Downloading flask_ngrok-0.0.25-py3-none-any.whl (3.1 kB)\n",
      "Requirement already satisfied: Flask in c:\\users\\chintan patel\\anaconda3\\lib\\site-packages (from Dtale) (1.1.2)\n",
      "Requirement already satisfied: plotly>=5.0.0 in c:\\users\\chintan patel\\anaconda3\\lib\\site-packages (from Dtale) (5.3.1)\n",
      "Collecting squarify\n",
      "  Downloading squarify-0.4.3-py3-none-any.whl (4.3 kB)\n",
      "Requirement already satisfied: itsdangerous in c:\\users\\chintan patel\\anaconda3\\lib\\site-packages (from Dtale) (1.1.0)\n",
      "Requirement already satisfied: scipy in c:\\users\\chintan patel\\anaconda3\\lib\\site-packages (from Dtale) (1.6.2)\n",
      "Requirement already satisfied: networkx in c:\\users\\chintan patel\\anaconda3\\lib\\site-packages (from Dtale) (2.5)\n",
      "Collecting ppscore\n",
      "  Downloading ppscore-1.2.0.tar.gz (47 kB)\n",
      "Requirement already satisfied: future>=0.14.0 in c:\\users\\chintan patel\\anaconda3\\lib\\site-packages (from Dtale) (0.18.2)\n",
      "Requirement already satisfied: et-xmlfile in c:\\users\\chintan patel\\anaconda3\\lib\\site-packages (from Dtale) (1.0.1)\n",
      "Collecting kaleido\n",
      "  Downloading kaleido-0.2.1-py2.py3-none-win_amd64.whl (65.9 MB)\n",
      "Collecting strsimpy\n",
      "  Downloading strsimpy-0.2.0-py3-none-any.whl (45 kB)\n",
      "Requirement already satisfied: openpyxl in c:\\users\\chintan patel\\anaconda3\\lib\\site-packages (from Dtale) (3.0.7)\n",
      "Requirement already satisfied: six in c:\\users\\chintan patel\\anaconda3\\lib\\site-packages (from Dtale) (1.15.0)\n",
      "Collecting missingno<=0.4.2\n",
      "  Downloading missingno-0.4.2-py3-none-any.whl (9.7 kB)\n",
      "Requirement already satisfied: statsmodels in c:\\users\\chintan patel\\anaconda3\\lib\\site-packages (from Dtale) (0.12.2)\n",
      "Collecting dash-bootstrap-components\n",
      "  Downloading dash_bootstrap_components-0.13.0-py3-none-any.whl (197 kB)\n",
      "Requirement already satisfied: requests in c:\\users\\chintan patel\\anaconda3\\lib\\site-packages (from Dtale) (2.24.0)\n",
      "Collecting dash-colorscales\n",
      "  Downloading dash_colorscales-0.0.4.tar.gz (62 kB)\n",
      "Requirement already satisfied: pandas in c:\\users\\chintan patel\\anaconda3\\lib\\site-packages (from Dtale) (1.2.4)\n",
      "Requirement already satisfied: xlrd in c:\\users\\chintan patel\\anaconda3\\lib\\site-packages (from Dtale) (2.0.1)\n",
      "Collecting xarray\n",
      "  Downloading xarray-0.19.0-py3-none-any.whl (827 kB)\n",
      "Collecting dash-core-components==2.0.0\n",
      "  Downloading dash_core_components-2.0.0.tar.gz (3.4 kB)\n",
      "Collecting dash-html-components==2.0.0\n",
      "  Downloading dash_html_components-2.0.0.tar.gz (3.8 kB)\n",
      "Collecting dash-table==5.0.0\n",
      "  Downloading dash_table-5.0.0.tar.gz (3.4 kB)\n",
      "Requirement already satisfied: click>=5.1 in c:\\users\\chintan patel\\anaconda3\\lib\\site-packages (from Flask->Dtale) (7.1.2)\n",
      "Requirement already satisfied: Werkzeug>=0.15 in c:\\users\\chintan patel\\anaconda3\\lib\\site-packages (from Flask->Dtale) (1.0.1)\n",
      "Requirement already satisfied: Jinja2>=2.10.1 in c:\\users\\chintan patel\\anaconda3\\lib\\site-packages (from Flask->Dtale) (2.11.2)\n",
      "Requirement already satisfied: MarkupSafe>=0.23 in c:\\users\\chintan patel\\anaconda3\\lib\\site-packages (from Jinja2>=2.10.1->Flask->Dtale) (1.1.1)\n",
      "Requirement already satisfied: tenacity>=6.2.0 in c:\\users\\chintan patel\\anaconda3\\lib\\site-packages (from plotly>=5.0.0->Dtale) (8.0.1)\n",
      "Collecting brotli\n",
      "  Downloading Brotli-1.0.9-cp38-cp38-win_amd64.whl (365 kB)\n",
      "Requirement already satisfied: pillow>=6.2.0 in c:\\users\\chintan patel\\anaconda3\\lib\\site-packages (from matplotlib->Dtale) (8.2.0)\n",
      "Requirement already satisfied: cycler>=0.10 in c:\\users\\chintan patel\\anaconda3\\lib\\site-packages (from matplotlib->Dtale) (0.10.0)\n",
      "Requirement already satisfied: python-dateutil>=2.1 in c:\\users\\chintan patel\\anaconda3\\lib\\site-packages (from matplotlib->Dtale) (2.8.1)\n",
      "Requirement already satisfied: kiwisolver>=1.0.1 in c:\\users\\chintan patel\\anaconda3\\lib\\site-packages (from matplotlib->Dtale) (1.3.1)\n",
      "Requirement already satisfied: pyparsing!=2.0.4,!=2.1.2,!=2.1.6,>=2.0.3 in c:\\users\\chintan patel\\anaconda3\\lib\\site-packages (from matplotlib->Dtale) (2.4.7)\n",
      "Requirement already satisfied: decorator>=4.3.0 in c:\\users\\chintan patel\\anaconda3\\lib\\site-packages (from networkx->Dtale) (5.0.6)\n",
      "Requirement already satisfied: pytz>=2017.3 in c:\\users\\chintan patel\\anaconda3\\lib\\site-packages (from pandas->Dtale) (2021.1)\n",
      "Requirement already satisfied: threadpoolctl>=2.0.0 in c:\\users\\chintan patel\\anaconda3\\lib\\site-packages (from scikit-learn->Dtale) (2.1.0)\n",
      "Requirement already satisfied: joblib>=0.11 in c:\\users\\chintan patel\\anaconda3\\lib\\site-packages (from scikit-learn->Dtale) (1.0.1)\n",
      "Requirement already satisfied: certifi>=2017.4.17 in c:\\users\\chintan patel\\anaconda3\\lib\\site-packages (from requests->Dtale) (2020.6.20)\n",
      "Requirement already satisfied: chardet<4,>=3.0.2 in c:\\users\\chintan patel\\anaconda3\\lib\\site-packages (from requests->Dtale) (3.0.4)\n",
      "Requirement already satisfied: urllib3!=1.25.0,!=1.25.1,<1.26,>=1.21.1 in c:\\users\\chintan patel\\anaconda3\\lib\\site-packages (from requests->Dtale) (1.25.10)\n",
      "Requirement already satisfied: idna<3,>=2.5 in c:\\users\\chintan patel\\anaconda3\\lib\\site-packages (from requests->Dtale) (2.10)\n",
      "Requirement already satisfied: patsy>=0.5 in c:\\users\\chintan patel\\anaconda3\\lib\\site-packages (from statsmodels->Dtale) (0.5.1)\n",
      "Requirement already satisfied: setuptools>=40.4 in c:\\users\\chintan patel\\anaconda3\\lib\\site-packages (from xarray->Dtale) (52.0.0.post20210125)\n",
      "Building wheels for collected packages: dash-core-components, dash-html-components, dash-table, dash-colorscales, dash-daq, ppscore\n",
      "  Building wheel for dash-core-components (setup.py): started\n",
      "  Building wheel for dash-core-components (setup.py): finished with status 'done'\n",
      "  Created wheel for dash-core-components: filename=dash_core_components-2.0.0-py3-none-any.whl size=3803 sha256=0c9b2a5bdb90b963f78ba476e4f0e2b35f2e4a29f8f42fbaf6115096f38c7e65\n",
      "  Stored in directory: c:\\users\\chintan patel\\appdata\\local\\pip\\cache\\wheels\\52\\e4\\f3\\16724791571a955a46d54650510c98c04ab7d339626aee27cc\n",
      "  Building wheel for dash-html-components (setup.py): started\n",
      "  Building wheel for dash-html-components (setup.py): finished with status 'done'\n",
      "  Created wheel for dash-html-components: filename=dash_html_components-2.0.0-py3-none-any.whl size=4071 sha256=bbef416928ad0ad749e95a9dcff76fc1afc9e91d8bcc25a234be6177db3fb907\n",
      "  Stored in directory: c:\\users\\chintan patel\\appdata\\local\\pip\\cache\\wheels\\73\\d8\\8d\\92f612c03c895f19bcc56a6c54be7bb41aaa698012a5624f60\n",
      "  Building wheel for dash-table (setup.py): started\n",
      "  Building wheel for dash-table (setup.py): finished with status 'done'\n",
      "  Created wheel for dash-table: filename=dash_table-5.0.0-py3-none-any.whl size=3896 sha256=8e12f1465a6a084eaf19ecf0823dd7994aeedf4fd3dc5e6115d817d9b0b8b446\n",
      "  Stored in directory: c:\\users\\chintan patel\\appdata\\local\\pip\\cache\\wheels\\a6\\fb\\f5\\4adf241f384634f52028f15eab6a325e77b8766a0a00816bbf\n",
      "  Building wheel for dash-colorscales (setup.py): started\n",
      "  Building wheel for dash-colorscales (setup.py): finished with status 'done'\n",
      "  Created wheel for dash-colorscales: filename=dash_colorscales-0.0.4-py3-none-any.whl size=62598 sha256=44bc27f7bde5b751a02ae893b0d65c2d5c594b07667693021271dd0f250b867f\n",
      "  Stored in directory: c:\\users\\chintan patel\\appdata\\local\\pip\\cache\\wheels\\fe\\33\\33\\172dbfe1efc739352828854a113df599a428b58f68ed0c4f75\n",
      "  Building wheel for dash-daq (setup.py): started\n",
      "  Building wheel for dash-daq (setup.py): finished with status 'done'\n",
      "  Created wheel for dash-daq: filename=dash_daq-0.5.0-py3-none-any.whl size=669701 sha256=8aa0158530dbd4a1869771de7382afd3626d91d6696d00bb3cfddc82a112fbee\n",
      "  Stored in directory: c:\\users\\chintan patel\\appdata\\local\\pip\\cache\\wheels\\00\\35\\e5\\57e90f10c529601c6627400513cb65dd5adb09752411f5a050\n",
      "  Building wheel for ppscore (setup.py): started\n",
      "  Building wheel for ppscore (setup.py): finished with status 'done'\n",
      "  Created wheel for ppscore: filename=ppscore-1.2.0-py2.py3-none-any.whl size=13050 sha256=ccbb09dc6cf74c061f41828983dcd80ad42e94436c8c3a4be30ee9d9d6a20ae7\n",
      "  Stored in directory: c:\\users\\chintan patel\\appdata\\local\\pip\\cache\\wheels\\fb\\0e\\65\\da65ce669381fc01b6ef990d301d3586991f89bff1175877a4\n",
      "Successfully built dash-core-components dash-html-components dash-table dash-colorscales dash-daq ppscore\n",
      "Installing collected packages: brotli, Flask-Compress, dash-table, dash-html-components, dash-core-components, dash, xarray, strsimpy, squarify, ppscore, missingno, lz4, kaleido, flask-ngrok, dash-daq, dash-colorscales, dash-bootstrap-components, Dtale\n",
      "Successfully installed Dtale-1.56.0 Flask-Compress-1.10.1 brotli-1.0.9 dash-2.0.0 dash-bootstrap-components-0.13.0 dash-colorscales-0.0.4 dash-core-components-2.0.0 dash-daq-0.5.0 dash-html-components-2.0.0 dash-table-5.0.0 flask-ngrok-0.0.25 kaleido-0.2.1 lz4-3.1.3 missingno-0.4.2 ppscore-1.2.0 squarify-0.4.3 strsimpy-0.2.0 xarray-0.19.0\n"
     ]
    }
   ],
   "source": [
    "!pip install Dtale"
   ]
  },
  {
   "cell_type": "code",
   "execution_count": 3,
   "id": "8bd5928b",
   "metadata": {},
   "outputs": [],
   "source": [
    "import seaborn as sns"
   ]
  },
  {
   "cell_type": "code",
   "execution_count": 4,
   "id": "5943b388",
   "metadata": {},
   "outputs": [],
   "source": [
    "df = sns.load_dataset(\"titanic\")"
   ]
  },
  {
   "cell_type": "code",
   "execution_count": 5,
   "id": "c5ac2f67",
   "metadata": {},
   "outputs": [
    {
     "name": "stderr",
     "output_type": "stream",
     "text": [
      "C:\\Users\\CHINTAN PATEL\\anaconda3\\lib\\site-packages\\dtale\\dash_application\\charts.py:13: UserWarning: \n",
      "The dash_core_components package is deprecated. Please replace\n",
      "`import dash_core_components as dcc` with `from dash import dcc`\n",
      "  import dash_core_components as dcc\n",
      "C:\\Users\\CHINTAN PATEL\\anaconda3\\lib\\site-packages\\dtale\\dash_application\\charts.py:14: UserWarning: \n",
      "The dash_html_components package is deprecated. Please replace\n",
      "`import dash_html_components as html` with `from dash import html`\n",
      "  import dash_html_components as html\n"
     ]
    }
   ],
   "source": [
    "import dtale"
   ]
  },
  {
   "cell_type": "code",
   "execution_count": 6,
   "id": "8601414c",
   "metadata": {},
   "outputs": [
    {
     "name": "stderr",
     "output_type": "stream",
     "text": [
      "2021-09-08 09:29:37,520 - INFO     - NumExpr defaulting to 8 threads.\n"
     ]
    },
    {
     "data": {
      "text/html": [
       "\n",
       "        <iframe\n",
       "            width=\"100%\"\n",
       "            height=\"475\"\n",
       "            src=\"http://LAPTOP-SMHV6QQO:40000/dtale/iframe/1\"\n",
       "            frameborder=\"0\"\n",
       "            allowfullscreen\n",
       "        ></iframe>\n",
       "        "
      ],
      "text/plain": [
       "<IPython.lib.display.IFrame at 0x1acfa5c1df0>"
      ]
     },
     "metadata": {},
     "output_type": "display_data"
    },
    {
     "data": {
      "text/plain": []
     },
     "execution_count": 6,
     "metadata": {},
     "output_type": "execute_result"
    }
   ],
   "source": [
    "dtale.show(df)"
   ]
  },
  {
   "cell_type": "markdown",
   "id": "ef977bc2",
   "metadata": {},
   "source": [
    "#pandas Profilling "
   ]
  },
  {
   "cell_type": "code",
   "execution_count": 7,
   "id": "2d51ef30",
   "metadata": {},
   "outputs": [
    {
     "name": "stdout",
     "output_type": "stream",
     "text": [
      "Collecting pandas-profiling\n",
      "  Downloading pandas_profiling-3.0.0-py2.py3-none-any.whl (248 kB)\n",
      "Requirement already satisfied: matplotlib>=3.2.0 in c:\\users\\chintan patel\\anaconda3\\lib\\site-packages (from pandas-profiling) (3.3.4)\n",
      "Requirement already satisfied: scipy>=1.4.1 in c:\\users\\chintan patel\\anaconda3\\lib\\site-packages (from pandas-profiling) (1.6.2)\n",
      "Requirement already satisfied: numpy>=1.16.0 in c:\\users\\chintan patel\\anaconda3\\lib\\site-packages (from pandas-profiling) (1.20.1)\n",
      "Collecting htmlmin>=0.1.12\n",
      "  Downloading htmlmin-0.1.12.tar.gz (19 kB)\n",
      "Requirement already satisfied: requests>=2.24.0 in c:\\users\\chintan patel\\anaconda3\\lib\\site-packages (from pandas-profiling) (2.24.0)\n",
      "Requirement already satisfied: tqdm>=4.48.2 in c:\\users\\chintan patel\\anaconda3\\lib\\site-packages (from pandas-profiling) (4.59.0)\n",
      "Requirement already satisfied: missingno>=0.4.2 in c:\\users\\chintan patel\\anaconda3\\lib\\site-packages (from pandas-profiling) (0.4.2)\n",
      "Requirement already satisfied: joblib in c:\\users\\chintan patel\\anaconda3\\lib\\site-packages (from pandas-profiling) (1.0.1)\n",
      "Collecting phik>=0.11.1\n",
      "  Downloading phik-0.12.0-cp38-cp38-win_amd64.whl (659 kB)\n",
      "Collecting tangled-up-in-unicode==0.1.0\n",
      "  Downloading tangled_up_in_unicode-0.1.0-py3-none-any.whl (3.1 MB)\n",
      "Requirement already satisfied: pandas!=1.0.0,!=1.0.1,!=1.0.2,!=1.1.0,>=0.25.3 in c:\\users\\chintan patel\\anaconda3\\lib\\site-packages (from pandas-profiling) (1.2.4)\n",
      "Requirement already satisfied: seaborn>=0.10.1 in c:\\users\\chintan patel\\anaconda3\\lib\\site-packages (from pandas-profiling) (0.11.1)\n",
      "Requirement already satisfied: jinja2>=2.11.1 in c:\\users\\chintan patel\\anaconda3\\lib\\site-packages (from pandas-profiling) (2.11.2)\n",
      "Requirement already satisfied: PyYAML>=5.0.0 in c:\\users\\chintan patel\\anaconda3\\lib\\site-packages (from pandas-profiling) (5.4.1)\n",
      "Collecting visions[type_image_path]==0.7.1\n",
      "  Downloading visions-0.7.1-py3-none-any.whl (102 kB)\n",
      "Collecting pydantic>=1.8.1\n",
      "  Downloading pydantic-1.8.2-cp38-cp38-win_amd64.whl (2.0 MB)\n",
      "Requirement already satisfied: networkx>=2.4 in c:\\users\\chintan patel\\anaconda3\\lib\\site-packages (from visions[type_image_path]==0.7.1->pandas-profiling) (2.5)\n",
      "Requirement already satisfied: attrs>=19.3.0 in c:\\users\\chintan patel\\anaconda3\\lib\\site-packages (from visions[type_image_path]==0.7.1->pandas-profiling) (20.3.0)\n",
      "Collecting multimethod==1.4\n",
      "  Downloading multimethod-1.4-py2.py3-none-any.whl (7.3 kB)\n",
      "Requirement already satisfied: bottleneck in c:\\users\\chintan patel\\anaconda3\\lib\\site-packages (from visions[type_image_path]==0.7.1->pandas-profiling) (1.3.2)\n",
      "Requirement already satisfied: Pillow in c:\\users\\chintan patel\\anaconda3\\lib\\site-packages (from visions[type_image_path]==0.7.1->pandas-profiling) (8.2.0)\n",
      "Collecting imagehash\n",
      "  Downloading ImageHash-4.2.1.tar.gz (812 kB)\n",
      "Requirement already satisfied: MarkupSafe>=0.23 in c:\\users\\chintan patel\\anaconda3\\lib\\site-packages (from jinja2>=2.11.1->pandas-profiling) (1.1.1)\n",
      "Requirement already satisfied: pyparsing!=2.0.4,!=2.1.2,!=2.1.6,>=2.0.3 in c:\\users\\chintan patel\\anaconda3\\lib\\site-packages (from matplotlib>=3.2.0->pandas-profiling) (2.4.7)\n",
      "Requirement already satisfied: cycler>=0.10 in c:\\users\\chintan patel\\anaconda3\\lib\\site-packages (from matplotlib>=3.2.0->pandas-profiling) (0.10.0)\n",
      "Requirement already satisfied: kiwisolver>=1.0.1 in c:\\users\\chintan patel\\anaconda3\\lib\\site-packages (from matplotlib>=3.2.0->pandas-profiling) (1.3.1)\n",
      "Requirement already satisfied: python-dateutil>=2.1 in c:\\users\\chintan patel\\anaconda3\\lib\\site-packages (from matplotlib>=3.2.0->pandas-profiling) (2.8.1)\n",
      "Requirement already satisfied: six in c:\\users\\chintan patel\\anaconda3\\lib\\site-packages (from cycler>=0.10->matplotlib>=3.2.0->pandas-profiling) (1.15.0)\n",
      "Requirement already satisfied: decorator>=4.3.0 in c:\\users\\chintan patel\\anaconda3\\lib\\site-packages (from networkx>=2.4->visions[type_image_path]==0.7.1->pandas-profiling) (5.0.6)\n",
      "Requirement already satisfied: pytz>=2017.3 in c:\\users\\chintan patel\\anaconda3\\lib\\site-packages (from pandas!=1.0.0,!=1.0.1,!=1.0.2,!=1.1.0,>=0.25.3->pandas-profiling) (2021.1)\n",
      "Requirement already satisfied: typing-extensions>=3.7.4.3 in c:\\users\\chintan patel\\anaconda3\\lib\\site-packages (from pydantic>=1.8.1->pandas-profiling) (3.7.4.3)\n",
      "Requirement already satisfied: certifi>=2017.4.17 in c:\\users\\chintan patel\\anaconda3\\lib\\site-packages (from requests>=2.24.0->pandas-profiling) (2020.6.20)\n",
      "Requirement already satisfied: urllib3!=1.25.0,!=1.25.1,<1.26,>=1.21.1 in c:\\users\\chintan patel\\anaconda3\\lib\\site-packages (from requests>=2.24.0->pandas-profiling) (1.25.10)\n",
      "Requirement already satisfied: idna<3,>=2.5 in c:\\users\\chintan patel\\anaconda3\\lib\\site-packages (from requests>=2.24.0->pandas-profiling) (2.10)\n",
      "Requirement already satisfied: chardet<4,>=3.0.2 in c:\\users\\chintan patel\\anaconda3\\lib\\site-packages (from requests>=2.24.0->pandas-profiling) (3.0.4)\n",
      "Requirement already satisfied: PyWavelets in c:\\users\\chintan patel\\anaconda3\\lib\\site-packages (from imagehash->visions[type_image_path]==0.7.1->pandas-profiling) (1.1.1)\n",
      "Building wheels for collected packages: htmlmin, imagehash\n",
      "  Building wheel for htmlmin (setup.py): started\n",
      "  Building wheel for htmlmin (setup.py): finished with status 'done'\n",
      "  Created wheel for htmlmin: filename=htmlmin-0.1.12-py3-none-any.whl size=27085 sha256=a0cca376a9c30c60bb9ffbff71456239bc91227eec4e7a63b81eedfd8979dc94\n",
      "  Stored in directory: c:\\users\\chintan patel\\appdata\\local\\pip\\cache\\wheels\\23\\14\\6e\\4be5bfeeb027f4939a01764b48edd5996acf574b0913fe5243\n",
      "  Building wheel for imagehash (setup.py): started\n",
      "  Building wheel for imagehash (setup.py): finished with status 'done'\n",
      "  Created wheel for imagehash: filename=ImageHash-4.2.1-py2.py3-none-any.whl size=295198 sha256=74e2ed931863d2a29f5e2dac37f8190225d2a582b8598640282259c8d78046f0\n",
      "  Stored in directory: c:\\users\\chintan patel\\appdata\\local\\pip\\cache\\wheels\\48\\a1\\7f\\096c1269d6bf78d4768180602579b35a1e8cb1250bb4b40c74\n",
      "Successfully built htmlmin imagehash\n",
      "Installing collected packages: tangled-up-in-unicode, multimethod, visions, imagehash, pydantic, phik, htmlmin, pandas-profiling\n",
      "Successfully installed htmlmin-0.1.12 imagehash-4.2.1 multimethod-1.4 pandas-profiling-3.0.0 phik-0.12.0 pydantic-1.8.2 tangled-up-in-unicode-0.1.0 visions-0.7.1\n"
     ]
    }
   ],
   "source": [
    "!pip install pandas-profiling"
   ]
  },
  {
   "cell_type": "code",
   "execution_count": 8,
   "id": "6fe1c154",
   "metadata": {},
   "outputs": [],
   "source": [
    "df1 = sns.load_dataset(\"tips\")"
   ]
  },
  {
   "cell_type": "code",
   "execution_count": 10,
   "id": "20321f05",
   "metadata": {},
   "outputs": [
    {
     "data": {
      "application/vnd.jupyter.widget-view+json": {
       "model_id": "e5763cca4cdb4228be4fc867e390981f",
       "version_major": 2,
       "version_minor": 0
      },
      "text/plain": [
       "Summarize dataset:   0%|          | 0/20 [00:00<?, ?it/s]"
      ]
     },
     "metadata": {},
     "output_type": "display_data"
    },
    {
     "data": {
      "application/vnd.jupyter.widget-view+json": {
       "model_id": "fa4cee9052f24c94b647c6290e7abc82",
       "version_major": 2,
       "version_minor": 0
      },
      "text/plain": [
       "Generate report structure:   0%|          | 0/1 [00:00<?, ?it/s]"
      ]
     },
     "metadata": {},
     "output_type": "display_data"
    },
    {
     "data": {
      "application/vnd.jupyter.widget-view+json": {
       "model_id": "e5a4288c7a5346ee91e3a3dd355d8044",
       "version_major": 2,
       "version_minor": 0
      },
      "text/plain": [
       "Render HTML:   0%|          | 0/1 [00:00<?, ?it/s]"
      ]
     },
     "metadata": {},
     "output_type": "display_data"
    },
    {
     "data": {
      "application/vnd.jupyter.widget-view+json": {
       "model_id": "790c0fa7c2ca4a49b89fc2ae6eadc306",
       "version_major": 2,
       "version_minor": 0
      },
      "text/plain": [
       "Export report to file:   0%|          | 0/1 [00:00<?, ?it/s]"
      ]
     },
     "metadata": {},
     "output_type": "display_data"
    }
   ],
   "source": [
    "from pandas_profiling import ProfileReport\n",
    "profile = ProfileReport(df1 , explorative = True)\n",
    "profile.to_file(\"output_tips.html\")"
   ]
  },
  {
   "cell_type": "markdown",
   "id": "bacf3751",
   "metadata": {},
   "source": [
    "# Third Lib\n"
   ]
  },
  {
   "cell_type": "code",
   "execution_count": 11,
   "id": "92c3e7a4",
   "metadata": {},
   "outputs": [
    {
     "name": "stdout",
     "output_type": "stream",
     "text": [
      "Collecting sweetviz\n",
      "  Downloading sweetviz-2.1.3-py3-none-any.whl (15.1 MB)\n",
      "Requirement already satisfied: jinja2>=2.11.1 in c:\\users\\chintan patel\\anaconda3\\lib\\site-packages (from sweetviz) (2.11.2)\n",
      "Requirement already satisfied: scipy>=1.3.2 in c:\\users\\chintan patel\\anaconda3\\lib\\site-packages (from sweetviz) (1.6.2)\n",
      "Requirement already satisfied: matplotlib>=3.1.3 in c:\\users\\chintan patel\\anaconda3\\lib\\site-packages (from sweetviz) (3.3.4)\n",
      "Requirement already satisfied: numpy>=1.16.0 in c:\\users\\chintan patel\\anaconda3\\lib\\site-packages (from sweetviz) (1.20.1)\n",
      "Requirement already satisfied: pandas!=1.0.0,!=1.0.1,!=1.0.2,>=0.25.3 in c:\\users\\chintan patel\\anaconda3\\lib\\site-packages (from sweetviz) (1.2.4)\n",
      "Collecting importlib-resources>=1.2.0\n",
      "  Downloading importlib_resources-5.2.2-py3-none-any.whl (27 kB)\n",
      "Requirement already satisfied: tqdm>=4.43.0 in c:\\users\\chintan patel\\anaconda3\\lib\\site-packages (from sweetviz) (4.59.0)\n",
      "Requirement already satisfied: zipp>=3.1.0 in c:\\users\\chintan patel\\anaconda3\\lib\\site-packages (from importlib-resources>=1.2.0->sweetviz) (3.4.1)\n",
      "Requirement already satisfied: MarkupSafe>=0.23 in c:\\users\\chintan patel\\anaconda3\\lib\\site-packages (from jinja2>=2.11.1->sweetviz) (1.1.1)\n",
      "Requirement already satisfied: kiwisolver>=1.0.1 in c:\\users\\chintan patel\\anaconda3\\lib\\site-packages (from matplotlib>=3.1.3->sweetviz) (1.3.1)\n",
      "Requirement already satisfied: pyparsing!=2.0.4,!=2.1.2,!=2.1.6,>=2.0.3 in c:\\users\\chintan patel\\anaconda3\\lib\\site-packages (from matplotlib>=3.1.3->sweetviz) (2.4.7)\n",
      "Requirement already satisfied: cycler>=0.10 in c:\\users\\chintan patel\\anaconda3\\lib\\site-packages (from matplotlib>=3.1.3->sweetviz) (0.10.0)\n",
      "Requirement already satisfied: pillow>=6.2.0 in c:\\users\\chintan patel\\anaconda3\\lib\\site-packages (from matplotlib>=3.1.3->sweetviz) (8.2.0)\n",
      "Requirement already satisfied: python-dateutil>=2.1 in c:\\users\\chintan patel\\anaconda3\\lib\\site-packages (from matplotlib>=3.1.3->sweetviz) (2.8.1)\n",
      "Requirement already satisfied: six in c:\\users\\chintan patel\\anaconda3\\lib\\site-packages (from cycler>=0.10->matplotlib>=3.1.3->sweetviz) (1.15.0)\n",
      "Requirement already satisfied: pytz>=2017.3 in c:\\users\\chintan patel\\anaconda3\\lib\\site-packages (from pandas!=1.0.0,!=1.0.1,!=1.0.2,>=0.25.3->sweetviz) (2021.1)\n",
      "Installing collected packages: importlib-resources, sweetviz\n",
      "Successfully installed importlib-resources-5.2.2 sweetviz-2.1.3\n"
     ]
    }
   ],
   "source": [
    "!pip install sweetviz"
   ]
  },
  {
   "cell_type": "code",
   "execution_count": 13,
   "id": "8a7b85ee",
   "metadata": {},
   "outputs": [
    {
     "data": {
      "application/vnd.jupyter.widget-view+json": {
       "model_id": "045db7d686c249c7852145a8da41cf33",
       "version_major": 2,
       "version_minor": 0
      },
      "text/plain": [
       "                                             |                                                                …"
      ]
     },
     "metadata": {},
     "output_type": "display_data"
    },
    {
     "name": "stdout",
     "output_type": "stream",
     "text": [
      "Report sweetviz_titanic_report.html was generated! NOTEBOOK/COLAB USERS: the web browser MAY not pop up, regardless, the report IS saved in your notebook/colab files.\n"
     ]
    }
   ],
   "source": [
    "import sweetviz as sv\n",
    "report = sv.analyze(df)\n",
    "report.show_html(\"sweetviz_titanic_report.html\")"
   ]
  },
  {
   "cell_type": "code",
   "execution_count": null,
   "id": "0e767834",
   "metadata": {},
   "outputs": [],
   "source": []
  }
 ],
 "metadata": {
  "kernelspec": {
   "display_name": "Python 3",
   "language": "python",
   "name": "python3"
  },
  "language_info": {
   "codemirror_mode": {
    "name": "ipython",
    "version": 3
   },
   "file_extension": ".py",
   "mimetype": "text/x-python",
   "name": "python",
   "nbconvert_exporter": "python",
   "pygments_lexer": "ipython3",
   "version": "3.8.8"
  }
 },
 "nbformat": 4,
 "nbformat_minor": 5
}
