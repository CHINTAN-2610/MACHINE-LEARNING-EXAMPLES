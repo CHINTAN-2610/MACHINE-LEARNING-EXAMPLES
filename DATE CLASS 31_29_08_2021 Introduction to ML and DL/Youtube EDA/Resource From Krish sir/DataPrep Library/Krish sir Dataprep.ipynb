{
 "cells": [
  {
   "cell_type": "code",
   "execution_count": 1,
   "metadata": {
    "colab": {
     "base_uri": "https://localhost:8080/"
    },
    "id": "6SlaBO9_QvKF",
    "outputId": "3205bb04-a82b-4a9b-91a2-367cc816d1db"
   },
   "outputs": [
    {
     "name": "stdout",
     "output_type": "stream",
     "text": [
      "Collecting dataprep\n",
      "  Using cached dataprep-0.3.0-py3-none-any.whl (1.8 MB)\n",
      "Requirement already satisfied: scipy<2,>=1 in c:\\users\\chintan patel\\anaconda3\\lib\\site-packages (from dataprep) (1.6.2)\n",
      "Requirement already satisfied: regex<2021.0.0,>=2020.10.15 in c:\\users\\chintan patel\\anaconda3\\lib\\site-packages (from dataprep) (2020.11.13)\n",
      "Collecting metaphone<0.7,>=0.6\n",
      "  Using cached Metaphone-0.6-py3-none-any.whl\n",
      "Requirement already satisfied: wordcloud<2.0,>=1.8 in c:\\users\\chintan patel\\anaconda3\\lib\\site-packages (from dataprep) (1.8.1)\n",
      "Collecting aiohttp<4.0,>=3.6\n",
      "  Using cached aiohttp-3.7.4.post0-cp38-cp38-win_amd64.whl (635 kB)\n",
      "Requirement already satisfied: pydantic<2.0,>=1.6 in c:\\users\\chintan patel\\anaconda3\\lib\\site-packages (from dataprep) (1.8.2)\n",
      "Requirement already satisfied: nltk<4.0,>=3.5 in c:\\users\\chintan patel\\anaconda3\\lib\\site-packages (from dataprep) (3.6.1)\n",
      "Requirement already satisfied: bottleneck<2.0,>=1.3 in c:\\users\\chintan patel\\anaconda3\\lib\\site-packages (from dataprep) (1.3.2)\n",
      "Requirement already satisfied: jinja2<3.0,>=2.11 in c:\\users\\chintan patel\\anaconda3\\lib\\site-packages (from dataprep) (2.11.2)\n",
      "Collecting jsonpath-ng<2.0,>=1.5\n",
      "  Using cached jsonpath_ng-1.5.3-py3-none-any.whl (29 kB)\n",
      "Requirement already satisfied: numpy<2,>=1 in c:\\users\\chintan patel\\anaconda3\\lib\\site-packages (from dataprep) (1.20.1)\n",
      "Requirement already satisfied: tqdm<5.0,>=4.48 in c:\\users\\chintan patel\\anaconda3\\lib\\site-packages (from dataprep) (4.59.0)\n",
      "Collecting python-Levenshtein<0.13.0,>=0.12.2\n",
      "  Using cached python-Levenshtein-0.12.2.tar.gz (50 kB)\n",
      "Requirement already satisfied: usaddress<0.6.0,>=0.5.10 in c:\\users\\chintan patel\\anaconda3\\lib\\site-packages (from dataprep) (0.5.10)\n",
      "Requirement already satisfied: pandas<2.0,>=1.1 in c:\\users\\chintan patel\\anaconda3\\lib\\site-packages (from dataprep) (1.2.4)\n",
      "Requirement already satisfied: bokeh<3,>=2 in c:\\users\\chintan patel\\anaconda3\\lib\\site-packages (from dataprep) (2.3.2)\n",
      "Requirement already satisfied: dask[array,dataframe,delayed]<3.0,>=2.25 in c:\\users\\chintan patel\\anaconda3\\lib\\site-packages (from dataprep) (2.30.0)\n",
      "Requirement already satisfied: ipywidgets<8.0,>=7.5 in c:\\users\\chintan patel\\anaconda3\\lib\\site-packages (from dataprep) (7.6.3)\n",
      "Requirement already satisfied: chardet<5.0,>=2.0 in c:\\users\\chintan patel\\anaconda3\\lib\\site-packages (from aiohttp<4.0,>=3.6->dataprep) (3.0.4)\n",
      "Requirement already satisfied: multidict<7.0,>=4.5 in c:\\users\\chintan patel\\anaconda3\\lib\\site-packages (from aiohttp<4.0,>=3.6->dataprep) (5.1.0)\n",
      "Requirement already satisfied: typing-extensions>=3.6.5 in c:\\users\\chintan patel\\anaconda3\\lib\\site-packages (from aiohttp<4.0,>=3.6->dataprep) (3.7.4.3)\n",
      "Requirement already satisfied: attrs>=17.3.0 in c:\\users\\chintan patel\\anaconda3\\lib\\site-packages (from aiohttp<4.0,>=3.6->dataprep) (20.3.0)\n",
      "Requirement already satisfied: async-timeout<4.0,>=3.0 in c:\\users\\chintan patel\\anaconda3\\lib\\site-packages (from aiohttp<4.0,>=3.6->dataprep) (3.0.1)\n",
      "Requirement already satisfied: yarl<2.0,>=1.0 in c:\\users\\chintan patel\\anaconda3\\lib\\site-packages (from aiohttp<4.0,>=3.6->dataprep) (1.6.3)"
     ]
    },
    {
     "name": "stderr",
     "output_type": "stream",
     "text": [
      "  ERROR: Command errored out with exit status 1:\n",
      "   command: 'C:\\Users\\CHINTAN PATEL\\anaconda3\\python.exe' -u -c 'import sys, setuptools, tokenize; sys.argv[0] = '\"'\"'C:\\\\Users\\\\CHINTAN PATEL\\\\AppData\\\\Local\\\\Temp\\\\pip-install-rmi5rpwd\\\\python-levenshtein_c4ee7c4881be471e8fda121278f3a68d\\\\setup.py'\"'\"'; __file__='\"'\"'C:\\\\Users\\\\CHINTAN PATEL\\\\AppData\\\\Local\\\\Temp\\\\pip-install-rmi5rpwd\\\\python-levenshtein_c4ee7c4881be471e8fda121278f3a68d\\\\setup.py'\"'\"';f=getattr(tokenize, '\"'\"'open'\"'\"', open)(__file__);code=f.read().replace('\"'\"'\\r\\n'\"'\"', '\"'\"'\\n'\"'\"');f.close();exec(compile(code, __file__, '\"'\"'exec'\"'\"'))' bdist_wheel -d 'C:\\Users\\CHINTAN PATEL\\AppData\\Local\\Temp\\pip-wheel-8q8jpas7'\n",
      "       cwd: C:\\Users\\CHINTAN PATEL\\AppData\\Local\\Temp\\pip-install-rmi5rpwd\\python-levenshtein_c4ee7c4881be471e8fda121278f3a68d\\\n",
      "  Complete output (27 lines):\n",
      "  running bdist_wheel\n",
      "  running build\n",
      "  running build_py\n",
      "  creating build\n",
      "  creating build\\lib.win-amd64-3.8\n",
      "  creating build\\lib.win-amd64-3.8\\Levenshtein\n",
      "  copying Levenshtein\\StringMatcher.py -> build\\lib.win-amd64-3.8\\Levenshtein\n",
      "  copying Levenshtein\\__init__.py -> build\\lib.win-amd64-3.8\\Levenshtein\n",
      "  running egg_info\n",
      "  writing python_Levenshtein.egg-info\\PKG-INFO\n",
      "  writing dependency_links to python_Levenshtein.egg-info\\dependency_links.txt\n",
      "  writing entry points to python_Levenshtein.egg-info\\entry_points.txt\n",
      "  writing namespace_packages to python_Levenshtein.egg-info\\namespace_packages.txt\n",
      "  writing requirements to python_Levenshtein.egg-info\\requires.txt\n",
      "  writing top-level names to python_Levenshtein.egg-info\\top_level.txt\n",
      "  reading manifest file 'python_Levenshtein.egg-info\\SOURCES.txt'\n",
      "  reading manifest template 'MANIFEST.in'\n",
      "  warning: no previously-included files matching '*pyc' found anywhere in distribution\n",
      "  warning: no previously-included files matching '*so' found anywhere in distribution\n",
      "  warning: no previously-included files matching '.project' found anywhere in distribution\n",
      "  warning: no previously-included files matching '.pydevproject' found anywhere in distribution\n",
      "  writing manifest file 'python_Levenshtein.egg-info\\SOURCES.txt'\n",
      "  copying Levenshtein\\_levenshtein.c -> build\\lib.win-amd64-3.8\\Levenshtein\n",
      "  copying Levenshtein\\_levenshtein.h -> build\\lib.win-amd64-3.8\\Levenshtein\n",
      "  running build_ext\n",
      "  building 'Levenshtein._levenshtein' extension\n",
      "  error: Microsoft Visual C++ 14.0 or greater is required. Get it with \"Microsoft C++ Build Tools\": https://visualstudio.microsoft.com/visual-cpp-build-tools/\n",
      "  ----------------------------------------\n",
      "  ERROR: Failed building wheel for python-Levenshtein\n",
      "    ERROR: Command errored out with exit status 1:\n",
      "     command: 'C:\\Users\\CHINTAN PATEL\\anaconda3\\python.exe' -u -c 'import sys, setuptools, tokenize; sys.argv[0] = '\"'\"'C:\\\\Users\\\\CHINTAN PATEL\\\\AppData\\\\Local\\\\Temp\\\\pip-install-rmi5rpwd\\\\python-levenshtein_c4ee7c4881be471e8fda121278f3a68d\\\\setup.py'\"'\"'; __file__='\"'\"'C:\\\\Users\\\\CHINTAN PATEL\\\\AppData\\\\Local\\\\Temp\\\\pip-install-rmi5rpwd\\\\python-levenshtein_c4ee7c4881be471e8fda121278f3a68d\\\\setup.py'\"'\"';f=getattr(tokenize, '\"'\"'open'\"'\"', open)(__file__);code=f.read().replace('\"'\"'\\r\\n'\"'\"', '\"'\"'\\n'\"'\"');f.close();exec(compile(code, __file__, '\"'\"'exec'\"'\"'))' install --record 'C:\\Users\\CHINTAN PATEL\\AppData\\Local\\Temp\\pip-record-n_qvssyg\\install-record.txt' --single-version-externally-managed --compile --install-headers 'C:\\Users\\CHINTAN PATEL\\anaconda3\\Include\\python-Levenshtein'\n",
      "         cwd: C:\\Users\\CHINTAN PATEL\\AppData\\Local\\Temp\\pip-install-rmi5rpwd\\python-levenshtein_c4ee7c4881be471e8fda121278f3a68d\\\n",
      "    Complete output (27 lines):\n",
      "    running install\n",
      "    running build\n",
      "    running build_py\n",
      "    creating build\n",
      "    creating build\\lib.win-amd64-3.8\n",
      "    creating build\\lib.win-amd64-3.8\\Levenshtein\n",
      "    copying Levenshtein\\StringMatcher.py -> build\\lib.win-amd64-3.8\\Levenshtein\n",
      "    copying Levenshtein\\__init__.py -> build\\lib.win-amd64-3.8\\Levenshtein\n",
      "    running egg_info\n",
      "    writing python_Levenshtein.egg-info\\PKG-INFO\n",
      "    writing dependency_links to python_Levenshtein.egg-info\\dependency_links.txt\n",
      "    writing entry points to python_Levenshtein.egg-info\\entry_points.txt\n",
      "    writing namespace_packages to python_Levenshtein.egg-info\\namespace_packages.txt\n",
      "    writing requirements to python_Levenshtein.egg-info\\requires.txt\n",
      "    writing top-level names to python_Levenshtein.egg-info\\top_level.txt\n",
      "    reading manifest file 'python_Levenshtein.egg-info\\SOURCES.txt'\n",
      "    reading manifest template 'MANIFEST.in'\n",
      "    warning: no previously-included files matching '*pyc' found anywhere in distribution\n",
      "    warning: no previously-included files matching '*so' found anywhere in distribution\n",
      "    warning: no previously-included files matching '.project' found anywhere in distribution\n",
      "    warning: no previously-included files matching '.pydevproject' found anywhere in distribution\n",
      "    writing manifest file 'python_Levenshtein.egg-info\\SOURCES.txt'\n",
      "    copying Levenshtein\\_levenshtein.c -> build\\lib.win-amd64-3.8\\Levenshtein\n",
      "    copying Levenshtein\\_levenshtein.h -> build\\lib.win-amd64-3.8\\Levenshtein\n",
      "    running build_ext\n",
      "    building 'Levenshtein._levenshtein' extension\n",
      "    error: Microsoft Visual C++ 14.0 or greater is required. Get it with \"Microsoft C++ Build Tools\": https://visualstudio.microsoft.com/visual-cpp-build-tools/\n",
      "    ----------------------------------------\n",
      "ERROR: Command errored out with exit status 1: 'C:\\Users\\CHINTAN PATEL\\anaconda3\\python.exe' -u -c 'import sys, setuptools, tokenize; sys.argv[0] = '\"'\"'C:\\\\Users\\\\CHINTAN PATEL\\\\AppData\\\\Local\\\\Temp\\\\pip-install-rmi5rpwd\\\\python-levenshtein_c4ee7c4881be471e8fda121278f3a68d\\\\setup.py'\"'\"'; __file__='\"'\"'C:\\\\Users\\\\CHINTAN PATEL\\\\AppData\\\\Local\\\\Temp\\\\pip-install-rmi5rpwd\\\\python-levenshtein_c4ee7c4881be471e8fda121278f3a68d\\\\setup.py'\"'\"';f=getattr(tokenize, '\"'\"'open'\"'\"', open)(__file__);code=f.read().replace('\"'\"'\\r\\n'\"'\"', '\"'\"'\\n'\"'\"');f.close();exec(compile(code, __file__, '\"'\"'exec'\"'\"'))' install --record 'C:\\Users\\CHINTAN PATEL\\AppData\\Local\\Temp\\pip-record-n_qvssyg\\install-record.txt' --single-version-externally-managed --compile --install-headers 'C:\\Users\\CHINTAN PATEL\\anaconda3\\Include\\python-Levenshtein' Check the logs for full command output.\n"
     ]
    },
    {
     "name": "stdout",
     "output_type": "stream",
     "text": [
      "\n",
      "Requirement already satisfied: tornado>=5.1 in c:\\users\\chintan patel\\anaconda3\\lib\\site-packages (from bokeh<3,>=2->dataprep) (6.1)\n",
      "Requirement already satisfied: pillow>=7.1.0 in c:\\users\\chintan patel\\anaconda3\\lib\\site-packages (from bokeh<3,>=2->dataprep) (8.2.0)\n",
      "Requirement already satisfied: PyYAML>=3.10 in c:\\users\\chintan patel\\anaconda3\\lib\\site-packages (from bokeh<3,>=2->dataprep) (5.4.1)\n",
      "Requirement already satisfied: python-dateutil>=2.1 in c:\\users\\chintan patel\\anaconda3\\lib\\site-packages (from bokeh<3,>=2->dataprep) (2.8.1)\n",
      "Requirement already satisfied: packaging>=16.8 in c:\\users\\chintan patel\\anaconda3\\lib\\site-packages (from bokeh<3,>=2->dataprep) (20.9)\n",
      "Requirement already satisfied: toolz>=0.8.2 in c:\\users\\chintan patel\\anaconda3\\lib\\site-packages (from dask[array,dataframe,delayed]<3.0,>=2.25->dataprep) (0.11.1)\n",
      "Requirement already satisfied: cloudpickle>=0.2.2 in c:\\users\\chintan patel\\anaconda3\\lib\\site-packages (from dask[array,dataframe,delayed]<3.0,>=2.25->dataprep) (1.6.0)\n",
      "Requirement already satisfied: partd>=0.3.10 in c:\\users\\chintan patel\\anaconda3\\lib\\site-packages (from dask[array,dataframe,delayed]<3.0,>=2.25->dataprep) (1.2.0)\n",
      "Requirement already satisfied: fsspec>=0.6.0 in c:\\users\\chintan patel\\anaconda3\\lib\\site-packages (from dask[array,dataframe,delayed]<3.0,>=2.25->dataprep) (0.9.0)\n",
      "Requirement already satisfied: nbformat>=4.2.0 in c:\\users\\chintan patel\\anaconda3\\lib\\site-packages (from ipywidgets<8.0,>=7.5->dataprep) (5.1.3)\n",
      "Requirement already satisfied: jupyterlab-widgets>=1.0.0 in c:\\users\\chintan patel\\anaconda3\\lib\\site-packages (from ipywidgets<8.0,>=7.5->dataprep) (1.0.0)\n",
      "Requirement already satisfied: ipykernel>=4.5.1 in c:\\users\\chintan patel\\anaconda3\\lib\\site-packages (from ipywidgets<8.0,>=7.5->dataprep) (5.3.4)\n",
      "Requirement already satisfied: traitlets>=4.3.1 in c:\\users\\chintan patel\\anaconda3\\lib\\site-packages (from ipywidgets<8.0,>=7.5->dataprep) (5.0.5)\n",
      "Requirement already satisfied: widgetsnbextension~=3.5.0 in c:\\users\\chintan patel\\anaconda3\\lib\\site-packages (from ipywidgets<8.0,>=7.5->dataprep) (3.5.1)\n",
      "Requirement already satisfied: ipython>=4.0.0 in c:\\users\\chintan patel\\anaconda3\\lib\\site-packages (from ipywidgets<8.0,>=7.5->dataprep) (7.22.0)\n",
      "Requirement already satisfied: jupyter-client in c:\\users\\chintan patel\\anaconda3\\lib\\site-packages (from ipykernel>=4.5.1->ipywidgets<8.0,>=7.5->dataprep) (6.1.12)\n",
      "Requirement already satisfied: jedi>=0.16 in c:\\users\\chintan patel\\anaconda3\\lib\\site-packages (from ipython>=4.0.0->ipywidgets<8.0,>=7.5->dataprep) (0.17.2)\n",
      "Requirement already satisfied: backcall in c:\\users\\chintan patel\\anaconda3\\lib\\site-packages (from ipython>=4.0.0->ipywidgets<8.0,>=7.5->dataprep) (0.2.0)\n",
      "Requirement already satisfied: pickleshare in c:\\users\\chintan patel\\anaconda3\\lib\\site-packages (from ipython>=4.0.0->ipywidgets<8.0,>=7.5->dataprep) (0.7.5)\n",
      "Requirement already satisfied: prompt-toolkit!=3.0.0,!=3.0.1,<3.1.0,>=2.0.0 in c:\\users\\chintan patel\\anaconda3\\lib\\site-packages (from ipython>=4.0.0->ipywidgets<8.0,>=7.5->dataprep) (3.0.17)\n",
      "Requirement already satisfied: colorama in c:\\users\\chintan patel\\anaconda3\\lib\\site-packages (from ipython>=4.0.0->ipywidgets<8.0,>=7.5->dataprep) (0.4.4)\n",
      "Requirement already satisfied: setuptools>=18.5 in c:\\users\\chintan patel\\anaconda3\\lib\\site-packages (from ipython>=4.0.0->ipywidgets<8.0,>=7.5->dataprep) (52.0.0.post20210125)\n",
      "Requirement already satisfied: pygments in c:\\users\\chintan patel\\anaconda3\\lib\\site-packages (from ipython>=4.0.0->ipywidgets<8.0,>=7.5->dataprep) (2.8.1)\n",
      "Requirement already satisfied: decorator in c:\\users\\chintan patel\\anaconda3\\lib\\site-packages (from ipython>=4.0.0->ipywidgets<8.0,>=7.5->dataprep) (5.0.6)\n",
      "Requirement already satisfied: parso<0.8.0,>=0.7.0 in c:\\users\\chintan patel\\anaconda3\\lib\\site-packages (from jedi>=0.16->ipython>=4.0.0->ipywidgets<8.0,>=7.5->dataprep) (0.7.0)\n",
      "Requirement already satisfied: MarkupSafe>=0.23 in c:\\users\\chintan patel\\anaconda3\\lib\\site-packages (from jinja2<3.0,>=2.11->dataprep) (1.1.1)\n",
      "Requirement already satisfied: ply in c:\\users\\chintan patel\\anaconda3\\lib\\site-packages (from jsonpath-ng<2.0,>=1.5->dataprep) (3.11)\n",
      "Requirement already satisfied: six in c:\\users\\chintan patel\\anaconda3\\lib\\site-packages (from jsonpath-ng<2.0,>=1.5->dataprep) (1.15.0)\n",
      "Requirement already satisfied: jupyter-core in c:\\users\\chintan patel\\anaconda3\\lib\\site-packages (from nbformat>=4.2.0->ipywidgets<8.0,>=7.5->dataprep) (4.7.1)\n",
      "Requirement already satisfied: jsonschema!=2.5.0,>=2.4 in c:\\users\\chintan patel\\anaconda3\\lib\\site-packages (from nbformat>=4.2.0->ipywidgets<8.0,>=7.5->dataprep) (3.2.0)\n",
      "Requirement already satisfied: ipython-genutils in c:\\users\\chintan patel\\anaconda3\\lib\\site-packages (from nbformat>=4.2.0->ipywidgets<8.0,>=7.5->dataprep) (0.2.0)\n",
      "Requirement already satisfied: pyrsistent>=0.14.0 in c:\\users\\chintan patel\\anaconda3\\lib\\site-packages (from jsonschema!=2.5.0,>=2.4->nbformat>=4.2.0->ipywidgets<8.0,>=7.5->dataprep) (0.17.3)\n",
      "Requirement already satisfied: joblib in c:\\users\\chintan patel\\anaconda3\\lib\\site-packages (from nltk<4.0,>=3.5->dataprep) (1.0.1)\n",
      "Requirement already satisfied: click in c:\\users\\chintan patel\\anaconda3\\lib\\site-packages (from nltk<4.0,>=3.5->dataprep) (7.1.2)\n",
      "Requirement already satisfied: pyparsing>=2.0.2 in c:\\users\\chintan patel\\anaconda3\\lib\\site-packages (from packaging>=16.8->bokeh<3,>=2->dataprep) (2.4.7)\n",
      "Requirement already satisfied: pytz>=2017.3 in c:\\users\\chintan patel\\anaconda3\\lib\\site-packages (from pandas<2.0,>=1.1->dataprep) (2021.1)\n",
      "Requirement already satisfied: locket in c:\\users\\chintan patel\\anaconda3\\lib\\site-packages\\locket-0.2.1-py3.8.egg (from partd>=0.3.10->dask[array,dataframe,delayed]<3.0,>=2.25->dataprep) (0.2.1)\n",
      "Requirement already satisfied: wcwidth in c:\\users\\chintan patel\\anaconda3\\lib\\site-packages (from prompt-toolkit!=3.0.0,!=3.0.1,<3.1.0,>=2.0.0->ipython>=4.0.0->ipywidgets<8.0,>=7.5->dataprep) (0.2.5)\n",
      "Requirement already satisfied: probableparsing in c:\\users\\chintan patel\\anaconda3\\lib\\site-packages (from usaddress<0.6.0,>=0.5.10->dataprep) (0.0.1)\n",
      "Requirement already satisfied: python-crfsuite>=0.7 in c:\\users\\chintan patel\\anaconda3\\lib\\site-packages (from usaddress<0.6.0,>=0.5.10->dataprep) (0.9.7)\n",
      "Requirement already satisfied: future>=0.14 in c:\\users\\chintan patel\\anaconda3\\lib\\site-packages (from usaddress<0.6.0,>=0.5.10->dataprep) (0.18.2)\n",
      "Requirement already satisfied: notebook>=4.4.1 in c:\\users\\chintan patel\\anaconda3\\lib\\site-packages (from widgetsnbextension~=3.5.0->ipywidgets<8.0,>=7.5->dataprep) (6.3.0)\n",
      "Requirement already satisfied: argon2-cffi in c:\\users\\chintan patel\\anaconda3\\lib\\site-packages (from notebook>=4.4.1->widgetsnbextension~=3.5.0->ipywidgets<8.0,>=7.5->dataprep) (20.1.0)\n",
      "Requirement already satisfied: pyzmq>=17 in c:\\users\\chintan patel\\anaconda3\\lib\\site-packages (from notebook>=4.4.1->widgetsnbextension~=3.5.0->ipywidgets<8.0,>=7.5->dataprep) (20.0.0)\n",
      "Requirement already satisfied: Send2Trash>=1.5.0 in c:\\users\\chintan patel\\anaconda3\\lib\\site-packages (from notebook>=4.4.1->widgetsnbextension~=3.5.0->ipywidgets<8.0,>=7.5->dataprep) (1.5.0)\n",
      "Requirement already satisfied: prometheus-client in c:\\users\\chintan patel\\anaconda3\\lib\\site-packages (from notebook>=4.4.1->widgetsnbextension~=3.5.0->ipywidgets<8.0,>=7.5->dataprep) (0.10.1)\n",
      "Requirement already satisfied: nbconvert in c:\\users\\chintan patel\\anaconda3\\lib\\site-packages (from notebook>=4.4.1->widgetsnbextension~=3.5.0->ipywidgets<8.0,>=7.5->dataprep) (6.0.7)\n",
      "Requirement already satisfied: terminado>=0.8.3 in c:\\users\\chintan patel\\anaconda3\\lib\\site-packages (from notebook>=4.4.1->widgetsnbextension~=3.5.0->ipywidgets<8.0,>=7.5->dataprep) (0.9.4)\n",
      "Requirement already satisfied: pywin32>=1.0 in c:\\users\\chintan patel\\anaconda3\\lib\\site-packages (from jupyter-core->nbformat>=4.2.0->ipywidgets<8.0,>=7.5->dataprep) (227)\n",
      "Requirement already satisfied: pywinpty>=0.5 in c:\\users\\chintan patel\\anaconda3\\lib\\site-packages (from terminado>=0.8.3->notebook>=4.4.1->widgetsnbextension~=3.5.0->ipywidgets<8.0,>=7.5->dataprep) (0.5.7)\n",
      "Requirement already satisfied: matplotlib in c:\\users\\chintan patel\\anaconda3\\lib\\site-packages (from wordcloud<2.0,>=1.8->dataprep) (3.3.4)\n",
      "Requirement already satisfied: idna>=2.0 in c:\\users\\chintan patel\\anaconda3\\lib\\site-packages (from yarl<2.0,>=1.0->aiohttp<4.0,>=3.6->dataprep) (2.10)\n",
      "Requirement already satisfied: cffi>=1.0.0 in c:\\users\\chintan patel\\anaconda3\\lib\\site-packages (from argon2-cffi->notebook>=4.4.1->widgetsnbextension~=3.5.0->ipywidgets<8.0,>=7.5->dataprep) (1.14.5)\n",
      "Requirement already satisfied: pycparser in c:\\users\\chintan patel\\anaconda3\\lib\\site-packages (from cffi>=1.0.0->argon2-cffi->notebook>=4.4.1->widgetsnbextension~=3.5.0->ipywidgets<8.0,>=7.5->dataprep) (2.20)\n",
      "Requirement already satisfied: kiwisolver>=1.0.1 in c:\\users\\chintan patel\\anaconda3\\lib\\site-packages (from matplotlib->wordcloud<2.0,>=1.8->dataprep) (1.3.1)\n",
      "Requirement already satisfied: cycler>=0.10 in c:\\users\\chintan patel\\anaconda3\\lib\\site-packages (from matplotlib->wordcloud<2.0,>=1.8->dataprep) (0.10.0)\n",
      "Requirement already satisfied: mistune<2,>=0.8.1 in c:\\users\\chintan patel\\anaconda3\\lib\\site-packages (from nbconvert->notebook>=4.4.1->widgetsnbextension~=3.5.0->ipywidgets<8.0,>=7.5->dataprep) (0.8.4)\n",
      "Requirement already satisfied: nbclient<0.6.0,>=0.5.0 in c:\\users\\chintan patel\\anaconda3\\lib\\site-packages (from nbconvert->notebook>=4.4.1->widgetsnbextension~=3.5.0->ipywidgets<8.0,>=7.5->dataprep) (0.5.3)\n",
      "Requirement already satisfied: entrypoints>=0.2.2 in c:\\users\\chintan patel\\anaconda3\\lib\\site-packages (from nbconvert->notebook>=4.4.1->widgetsnbextension~=3.5.0->ipywidgets<8.0,>=7.5->dataprep) (0.3)\n",
      "Requirement already satisfied: jupyterlab-pygments in c:\\users\\chintan patel\\anaconda3\\lib\\site-packages (from nbconvert->notebook>=4.4.1->widgetsnbextension~=3.5.0->ipywidgets<8.0,>=7.5->dataprep) (0.1.2)\n",
      "Requirement already satisfied: bleach in c:\\users\\chintan patel\\anaconda3\\lib\\site-packages (from nbconvert->notebook>=4.4.1->widgetsnbextension~=3.5.0->ipywidgets<8.0,>=7.5->dataprep) (3.3.0)\n",
      "Requirement already satisfied: defusedxml in c:\\users\\chintan patel\\anaconda3\\lib\\site-packages (from nbconvert->notebook>=4.4.1->widgetsnbextension~=3.5.0->ipywidgets<8.0,>=7.5->dataprep) (0.7.1)\n",
      "Requirement already satisfied: testpath in c:\\users\\chintan patel\\anaconda3\\lib\\site-packages (from nbconvert->notebook>=4.4.1->widgetsnbextension~=3.5.0->ipywidgets<8.0,>=7.5->dataprep) (0.4.4)\n",
      "Requirement already satisfied: pandocfilters>=1.4.1 in c:\\users\\chintan patel\\anaconda3\\lib\\site-packages (from nbconvert->notebook>=4.4.1->widgetsnbextension~=3.5.0->ipywidgets<8.0,>=7.5->dataprep) (1.4.3)\n",
      "Requirement already satisfied: nest-asyncio in c:\\users\\chintan patel\\anaconda3\\lib\\site-packages (from nbclient<0.6.0,>=0.5.0->nbconvert->notebook>=4.4.1->widgetsnbextension~=3.5.0->ipywidgets<8.0,>=7.5->dataprep) (1.5.1)\n",
      "Requirement already satisfied: async-generator in c:\\users\\chintan patel\\anaconda3\\lib\\site-packages (from nbclient<0.6.0,>=0.5.0->nbconvert->notebook>=4.4.1->widgetsnbextension~=3.5.0->ipywidgets<8.0,>=7.5->dataprep) (1.10)\n",
      "Requirement already satisfied: webencodings in c:\\users\\chintan patel\\anaconda3\\lib\\site-packages (from bleach->nbconvert->notebook>=4.4.1->widgetsnbextension~=3.5.0->ipywidgets<8.0,>=7.5->dataprep) (0.5.1)\n",
      "Building wheels for collected packages: python-Levenshtein\n",
      "  Building wheel for python-Levenshtein (setup.py): started\n",
      "  Building wheel for python-Levenshtein (setup.py): finished with status 'error'\n",
      "  Running setup.py clean for python-Levenshtein\n",
      "Failed to build python-Levenshtein\n",
      "Installing collected packages: python-Levenshtein, metaphone, jsonpath-ng, aiohttp, dataprep\n",
      "    Running setup.py install for python-Levenshtein: started\n",
      "    Running setup.py install for python-Levenshtein: finished with status 'error'\n"
     ]
    }
   ],
   "source": [
    "!pip install dataprep"
   ]
  },
  {
   "cell_type": "code",
   "execution_count": 2,
   "metadata": {
    "colab": {
     "base_uri": "https://localhost:8080/",
     "height": 1000
    },
    "id": "NbQyr-aHQ7Eh",
    "outputId": "629c1514-a095-4e18-ff5b-f635d7e4c31e"
   },
   "outputs": [
    {
     "ename": "ModuleNotFoundError",
     "evalue": "No module named 'dataprep'",
     "output_type": "error",
     "traceback": [
      "\u001b[1;31m---------------------------------------------------------------------------\u001b[0m",
      "\u001b[1;31mModuleNotFoundError\u001b[0m                       Traceback (most recent call last)",
      "\u001b[1;32m<ipython-input-2-5672bc761b05>\u001b[0m in \u001b[0;36m<module>\u001b[1;34m\u001b[0m\n\u001b[1;32m----> 1\u001b[1;33m \u001b[1;32mfrom\u001b[0m \u001b[0mdataprep\u001b[0m\u001b[1;33m.\u001b[0m\u001b[0mdatasets\u001b[0m \u001b[1;32mimport\u001b[0m \u001b[0mload_dataset\u001b[0m\u001b[1;33m\u001b[0m\u001b[1;33m\u001b[0m\u001b[0m\n\u001b[0m\u001b[0;32m      2\u001b[0m \u001b[1;32mfrom\u001b[0m \u001b[0mdataprep\u001b[0m\u001b[1;33m.\u001b[0m\u001b[0meda\u001b[0m \u001b[1;32mimport\u001b[0m \u001b[0mcreate_report\u001b[0m\u001b[1;33m\u001b[0m\u001b[1;33m\u001b[0m\u001b[0m\n\u001b[0;32m      3\u001b[0m \u001b[0mdf\u001b[0m \u001b[1;33m=\u001b[0m \u001b[0mload_dataset\u001b[0m\u001b[1;33m(\u001b[0m\u001b[1;34m\"titanic\"\u001b[0m\u001b[1;33m)\u001b[0m\u001b[1;33m\u001b[0m\u001b[1;33m\u001b[0m\u001b[0m\n\u001b[0;32m      4\u001b[0m \u001b[0mcreate_report\u001b[0m\u001b[1;33m(\u001b[0m\u001b[0mdf\u001b[0m\u001b[1;33m)\u001b[0m\u001b[1;33m\u001b[0m\u001b[1;33m\u001b[0m\u001b[0m\n",
      "\u001b[1;31mModuleNotFoundError\u001b[0m: No module named 'dataprep'"
     ]
    }
   ],
   "source": [
    "from dataprep.datasets import load_dataset\n",
    "from dataprep.eda import create_report\n",
    "df = load_dataset(\"titanic\")\n",
    "create_report(df)"
   ]
  },
  {
   "cell_type": "code",
   "execution_count": null,
   "metadata": {
    "id": "TGD2GHzDRJOW"
   },
   "outputs": [],
   "source": []
  }
 ],
 "metadata": {
  "colab": {
   "name": "Dataprep.ipynb",
   "provenance": []
  },
  "kernelspec": {
   "display_name": "Python 3",
   "language": "python",
   "name": "python3"
  },
  "language_info": {
   "codemirror_mode": {
    "name": "ipython",
    "version": 3
   },
   "file_extension": ".py",
   "mimetype": "text/x-python",
   "name": "python",
   "nbconvert_exporter": "python",
   "pygments_lexer": "ipython3",
   "version": "3.8.8"
  }
 },
 "nbformat": 4,
 "nbformat_minor": 1
}
